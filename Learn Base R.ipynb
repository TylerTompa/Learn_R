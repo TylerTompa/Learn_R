{
 "cells": [
  {
   "cell_type": "markdown",
   "metadata": {},
   "source": [
    "# Removing and Listing Variables"
   ]
  },
  {
   "cell_type": "code",
   "execution_count": 1,
   "metadata": {
    "scrolled": true
   },
   "outputs": [
    {
     "data": {
      "text/html": [
       "1"
      ],
      "text/latex": [
       "1"
      ],
      "text/markdown": [
       "1"
      ],
      "text/plain": [
       "[1] 1"
      ]
     },
     "metadata": {},
     "output_type": "display_data"
    },
    {
     "ename": "ERROR",
     "evalue": "Error in eval(expr, envir, enclos): object 'variable1' not found\n",
     "output_type": "error",
     "traceback": [
      "Error in eval(expr, envir, enclos): object 'variable1' not found\nTraceback:\n"
     ]
    }
   ],
   "source": [
    "# You can remove variables in R using the remove() or the rm() function.\n",
    "variable1 <- 1\n",
    "variable1\n",
    "rm(variable1)\n",
    "variable1\n",
    "\n",
    "# Variable1 returned 1 the first time we called it,\n",
    "# but returned an error the second time, as the variable has been removed."
   ]
  },
  {
   "cell_type": "code",
   "execution_count": 2,
   "metadata": {},
   "outputs": [
    {
     "data": {
      "text/html": [
       "<ol class=list-inline>\n",
       "\t<li>1</li>\n",
       "\t<li>2</li>\n",
       "\t<li>3</li>\n",
       "</ol>\n"
      ],
      "text/latex": [
       "\\begin{enumerate*}\n",
       "\\item 1\n",
       "\\item 2\n",
       "\\item 3\n",
       "\\end{enumerate*}\n"
      ],
      "text/markdown": [
       "1. 1\n",
       "2. 2\n",
       "3. 3\n",
       "\n",
       "\n"
      ],
      "text/plain": [
       "[1] 1 2 3"
      ]
     },
     "metadata": {},
     "output_type": "display_data"
    },
    {
     "ename": "ERROR",
     "evalue": "Error in eval(expr, envir, enclos): object 'variable2' not found\n",
     "output_type": "error",
     "traceback": [
      "Error in eval(expr, envir, enclos): object 'variable2' not found\nTraceback:\n"
     ]
    }
   ],
   "source": [
    "# You can delete multiple variables at once by including each one within the rm() function.\n",
    "# The following will delete variable1 and variable2, but not variable3.\n",
    "variable1 <- 1\n",
    "variable2 <- c(1,2)\n",
    "variable3 <- c(1,2,3)\n",
    "rm(variable1, variable2)\n",
    "variable3\n",
    "variable2\n",
    "variable1\n",
    "# Similar to before, our the script returned an error when we tried calling a variable that no longer exists.\n",
    "# This time though, we didn't even get to line where we call the variable variable1."
   ]
  },
  {
   "cell_type": "code",
   "execution_count": 3,
   "metadata": {},
   "outputs": [
    {
     "ename": "ERROR",
     "evalue": "Error in eval(expr, envir, enclos): object 'variable1' not found\n",
     "output_type": "error",
     "traceback": [
      "Error in eval(expr, envir, enclos): object 'variable1' not found\nTraceback:\n"
     ]
    }
   ],
   "source": [
    "# Lastly, you can also delete all variables at once with the ccommand: rm(list = ls())\n",
    "variable1 <- 1\n",
    "variable2 <- c(1,2)\n",
    "variable3 <- c(1,2,3)\n",
    "rm(list = ls() )\n",
    "variable1\n",
    "variable2\n",
    "\n",
    "# WARNING: YOU SHOULD ONLY RUN THIS COMMAND IN THE CONSOLE.  IF THIS IS INCLUDED IN SCRIPTS OR MARKDOWN FILES,\n",
    "# IT CAN POTENTIALLY CAUSE UNINTENDED EFFECTS."
   ]
  },
  {
   "cell_type": "code",
   "execution_count": 4,
   "metadata": {},
   "outputs": [
    {
     "data": {
      "text/html": [
       "<ol class=list-inline>\n",
       "\t<li>'a'</li>\n",
       "\t<li>'b'</li>\n",
       "\t<li>'c'</li>\n",
       "\t<li>'d'</li>\n",
       "\t<li>'e'</li>\n",
       "</ol>\n"
      ],
      "text/latex": [
       "\\begin{enumerate*}\n",
       "\\item 'a'\n",
       "\\item 'b'\n",
       "\\item 'c'\n",
       "\\item 'd'\n",
       "\\item 'e'\n",
       "\\end{enumerate*}\n"
      ],
      "text/markdown": [
       "1. 'a'\n",
       "2. 'b'\n",
       "3. 'c'\n",
       "4. 'd'\n",
       "5. 'e'\n",
       "\n",
       "\n"
      ],
      "text/plain": [
       "[1] \"a\" \"b\" \"c\" \"d\" \"e\""
      ]
     },
     "metadata": {},
     "output_type": "display_data"
    },
    {
     "data": {
      "text/html": [
       "<ol class=list-inline>\n",
       "\t<li>'a'</li>\n",
       "\t<li>'b'</li>\n",
       "\t<li>'c'</li>\n",
       "\t<li>'e'</li>\n",
       "</ol>\n"
      ],
      "text/latex": [
       "\\begin{enumerate*}\n",
       "\\item 'a'\n",
       "\\item 'b'\n",
       "\\item 'c'\n",
       "\\item 'e'\n",
       "\\end{enumerate*}\n"
      ],
      "text/markdown": [
       "1. 'a'\n",
       "2. 'b'\n",
       "3. 'c'\n",
       "4. 'e'\n",
       "\n",
       "\n"
      ],
      "text/plain": [
       "[1] \"a\" \"b\" \"c\" \"e\""
      ]
     },
     "metadata": {},
     "output_type": "display_data"
    }
   ],
   "source": [
    "# The ls() function can be used to list all variables currently available.\n",
    "a  <- 1\n",
    "b <- 2\n",
    "c <- 3\n",
    "d <- 4\n",
    "e <- 5\n",
    "\n",
    "ls()\n",
    "\n",
    "rm(d)\n",
    "\n",
    "ls()"
   ]
  },
  {
   "cell_type": "markdown",
   "metadata": {},
   "source": [
    "# The class() function, and the is.____() functions"
   ]
  },
  {
   "cell_type": "code",
   "execution_count": 5,
   "metadata": {},
   "outputs": [
    {
     "data": {
      "text/html": [
       "'numeric'"
      ],
      "text/latex": [
       "'numeric'"
      ],
      "text/markdown": [
       "'numeric'"
      ],
      "text/plain": [
       "[1] \"numeric\""
      ]
     },
     "metadata": {},
     "output_type": "display_data"
    },
    {
     "data": {
      "text/html": [
       "'numeric'"
      ],
      "text/latex": [
       "'numeric'"
      ],
      "text/markdown": [
       "'numeric'"
      ],
      "text/plain": [
       "[1] \"numeric\""
      ]
     },
     "metadata": {},
     "output_type": "display_data"
    },
    {
     "data": {
      "text/html": [
       "'numeric'"
      ],
      "text/latex": [
       "'numeric'"
      ],
      "text/markdown": [
       "'numeric'"
      ],
      "text/plain": [
       "[1] \"numeric\""
      ]
     },
     "metadata": {},
     "output_type": "display_data"
    },
    {
     "data": {
      "text/html": [
       "'integer'"
      ],
      "text/latex": [
       "'integer'"
      ],
      "text/markdown": [
       "'integer'"
      ],
      "text/plain": [
       "[1] \"integer\""
      ]
     },
     "metadata": {},
     "output_type": "display_data"
    }
   ],
   "source": [
    "# You can check the class of a variable with the class() function.\n",
    "\n",
    "# By default, R does not differentiate between integers and decinals; to R they are both just numeric.\n",
    "integer <- 4\n",
    "class(integer)\n",
    "\n",
    "decimal <- 4.5\n",
    "class(decimal)\n",
    "\n",
    "# By typing \"L\" after an integer, you can tell R to store the variable as specifically an integer.\n",
    "numeric_by_default <- 10\n",
    "specifically_an_integer <- 10L\n",
    "class(numeric_by_default)\n",
    "class(specifically_an_integer)"
   ]
  },
  {
   "cell_type": "code",
   "execution_count": 6,
   "metadata": {},
   "outputs": [
    {
     "data": {
      "text/html": [
       "'numeric'"
      ],
      "text/latex": [
       "'numeric'"
      ],
      "text/markdown": [
       "'numeric'"
      ],
      "text/plain": [
       "[1] \"numeric\""
      ]
     },
     "metadata": {},
     "output_type": "display_data"
    },
    {
     "data": {
      "text/html": [
       "'character'"
      ],
      "text/latex": [
       "'character'"
      ],
      "text/markdown": [
       "'character'"
      ],
      "text/plain": [
       "[1] \"character\""
      ]
     },
     "metadata": {},
     "output_type": "display_data"
    }
   ],
   "source": [
    "# R recognizes a vector of a certain class as that class itself.\n",
    "# Instead of a vector of numerics, R just sees numeric.\n",
    "vector_of_numbers <- c(1, 2, 3)\n",
    "class(vector_of_numbers)\n",
    "vector_of_characters <- c(\"1\", \"2\", \"3\")\n",
    "class(vector_of_characters)"
   ]
  },
  {
   "cell_type": "code",
   "execution_count": 7,
   "metadata": {},
   "outputs": [
    {
     "data": {
      "text/html": [
       "'list'"
      ],
      "text/latex": [
       "'list'"
      ],
      "text/markdown": [
       "'list'"
      ],
      "text/plain": [
       "[1] \"list\""
      ]
     },
     "metadata": {},
     "output_type": "display_data"
    },
    {
     "data": {
      "text/html": [
       "'list'"
      ],
      "text/latex": [
       "'list'"
      ],
      "text/markdown": [
       "'list'"
      ],
      "text/plain": [
       "[1] \"list\""
      ]
     },
     "metadata": {},
     "output_type": "display_data"
    },
    {
     "data": {
      "text/html": [
       "'list'"
      ],
      "text/latex": [
       "'list'"
      ],
      "text/markdown": [
       "'list'"
      ],
      "text/plain": [
       "[1] \"list\""
      ]
     },
     "metadata": {},
     "output_type": "display_data"
    }
   ],
   "source": [
    "# R only sees a list as a disctint class itself, not as a list of a certain class.\n",
    "list_of_numbers <- list(1, 2, 3, 4, 5)\n",
    "class(list_of_numbers)\n",
    "list_of_characters <- list(\"1\", \"2\", \"3\", \"4\", \"5\")\n",
    "class(list_of_characters)\n",
    "list_of_mixed_classes <- list(1, c(\"1\", \"2\", \"3\"), \"4\", FALSE)\n",
    "class(list_of_mixed_classes)"
   ]
  },
  {
   "cell_type": "code",
   "execution_count": 8,
   "metadata": {},
   "outputs": [],
   "source": [
    "# Instead of checking what class a varible is, you may wish to test whether it is a specified class.\n",
    "# You can use the is.___() functions to do so.\n",
    "# To check whether the variable x is a number, use the function is.numeric(x).\n",
    "# Likewise, to check whether the variable x is a dataframe, use the function is.dataframe(x)"
   ]
  },
  {
   "cell_type": "code",
   "execution_count": 9,
   "metadata": {},
   "outputs": [
    {
     "data": {
      "text/html": [
       "TRUE"
      ],
      "text/latex": [
       "TRUE"
      ],
      "text/markdown": [
       "TRUE"
      ],
      "text/plain": [
       "[1] TRUE"
      ]
     },
     "metadata": {},
     "output_type": "display_data"
    },
    {
     "data": {
      "text/html": [
       "FALSE"
      ],
      "text/latex": [
       "FALSE"
      ],
      "text/markdown": [
       "FALSE"
      ],
      "text/plain": [
       "[1] FALSE"
      ]
     },
     "metadata": {},
     "output_type": "display_data"
    },
    {
     "data": {
      "text/html": [
       "TRUE"
      ],
      "text/latex": [
       "TRUE"
      ],
      "text/markdown": [
       "TRUE"
      ],
      "text/plain": [
       "[1] TRUE"
      ]
     },
     "metadata": {},
     "output_type": "display_data"
    },
    {
     "data": {
      "text/html": [
       "TRUE"
      ],
      "text/latex": [
       "TRUE"
      ],
      "text/markdown": [
       "TRUE"
      ],
      "text/plain": [
       "[1] TRUE"
      ]
     },
     "metadata": {},
     "output_type": "display_data"
    },
    {
     "data": {
      "text/html": [
       "FALSE"
      ],
      "text/latex": [
       "FALSE"
      ],
      "text/markdown": [
       "FALSE"
      ],
      "text/plain": [
       "[1] FALSE"
      ]
     },
     "metadata": {},
     "output_type": "display_data"
    },
    {
     "data": {
      "text/html": [
       "TRUE"
      ],
      "text/latex": [
       "TRUE"
      ],
      "text/markdown": [
       "TRUE"
      ],
      "text/plain": [
       "[1] TRUE"
      ]
     },
     "metadata": {},
     "output_type": "display_data"
    }
   ],
   "source": [
    "x <- 5\n",
    "is.numeric(x)\n",
    "is.integer(x)\n",
    "\n",
    "y <- 5L\n",
    "is.numeric(y)\n",
    "is.numeric(y)\n",
    "\n",
    "z = data.frame(1:3, 4:6, 7:9)\n",
    "is.numeric(z)\n",
    "is.data.frame(z)"
   ]
  },
  {
   "cell_type": "markdown",
   "metadata": {},
   "source": [
    "# Vectors"
   ]
  },
  {
   "cell_type": "code",
   "execution_count": 10,
   "metadata": {},
   "outputs": [
    {
     "data": {
      "text/html": [
       "<strong>July:</strong> 102"
      ],
      "text/latex": [
       "\\textbf{July:} 102"
      ],
      "text/markdown": [
       "**July:** 102"
      ],
      "text/plain": [
       "July \n",
       " 102 "
      ]
     },
     "metadata": {},
     "output_type": "display_data"
    },
    {
     "data": {
      "text/html": [
       "<strong>July:</strong> 102"
      ],
      "text/latex": [
       "\\textbf{July:} 102"
      ],
      "text/markdown": [
       "**July:** 102"
      ],
      "text/plain": [
       "July \n",
       " 102 "
      ]
     },
     "metadata": {},
     "output_type": "display_data"
    }
   ],
   "source": [
    "# When using vectors, you can \"name\" each element using the names() function after defining the vector.\n",
    "profits <- c(98, 94, 96,\n",
    "             97, 100, 103,\n",
    "             102, 102, 104,\n",
    "             105, 100, 103)\n",
    "names(profits) <- c(\"January\", \"February\", \"March\",\n",
    "                   \"April\", \"May\", \"June\",\n",
    "                   \"July\", \"August\", \"September\",\n",
    "                   \"October\", \"November\", \"December\")\n",
    "# You can then reference an element by both index and name.\n",
    "profits[7]\n",
    "profits[\"July\"]"
   ]
  },
  {
   "cell_type": "code",
   "execution_count": 11,
   "metadata": {},
   "outputs": [
    {
     "data": {
      "text/html": [
       "<strong>July:</strong> 102"
      ],
      "text/latex": [
       "\\textbf{July:} 102"
      ],
      "text/markdown": [
       "**July:** 102"
      ],
      "text/plain": [
       "July \n",
       " 102 "
      ]
     },
     "metadata": {},
     "output_type": "display_data"
    },
    {
     "data": {
      "text/html": [
       "<strong>July:</strong> 102"
      ],
      "text/latex": [
       "\\textbf{July:} 102"
      ],
      "text/markdown": [
       "**July:** 102"
      ],
      "text/plain": [
       "July \n",
       " 102 "
      ]
     },
     "metadata": {},
     "output_type": "display_data"
    }
   ],
   "source": [
    "# Alternatively, you can name each element as you're defining the vector.\n",
    "rm(profits)\n",
    "profits <- c(\"January\" = 98, \"February\" = 94, \"March\" = 96,\n",
    "             \"April\" = 97, \"May\" = 100, \"June\" = 103,\n",
    "             \"July\" = 102, \"August\" = 102, \"September\" = 104,\n",
    "             \"October\" = 105, \"November\" = 100, \"December\" = 103)\n",
    "profits[7]\n",
    "profits[\"July\"]"
   ]
  },
  {
   "cell_type": "code",
   "execution_count": 12,
   "metadata": {},
   "outputs": [
    {
     "data": {
      "text/html": [
       "<strong>Tuesday:</strong> 75"
      ],
      "text/latex": [
       "\\textbf{Tuesday:} 75"
      ],
      "text/markdown": [
       "**Tuesday:** 75"
      ],
      "text/plain": [
       "Tuesday \n",
       "     75 "
      ]
     },
     "metadata": {},
     "output_type": "display_data"
    }
   ],
   "source": [
    "# Consider your daily revenue in a given week, and your daily costs in the same week\n",
    "daily_revenue <- c(98, 95, 92, 94, 93)\n",
    "daily_costs <- c(24, 20, 22, 22, 23)\n",
    "# Now define a vector of day names.\n",
    "days_vector <- c(\"Monday\", \"Tuesday\", \"Wednesday\", \"Thursday\", \"Friday\")\n",
    "\n",
    "# Then you do something completely unnecesary-but nonetheless awesome, like this.\n",
    "names(daily_revenue) <- days_vector -> names(daily_costs)\n",
    "daily_revenue[\"Tuesday\"] - daily_costs[\"Tuesday\"]"
   ]
  },
  {
   "cell_type": "code",
   "execution_count": 13,
   "metadata": {
    "scrolled": true
   },
   "outputs": [
    {
     "data": {
      "text/html": [
       "<dl class=dl-horizontal>\n",
       "\t<dt>Monday</dt>\n",
       "\t\t<dd>TRUE</dd>\n",
       "\t<dt>Tuesday</dt>\n",
       "\t\t<dd>FALSE</dd>\n",
       "\t<dt>Wednesday</dt>\n",
       "\t\t<dd>FALSE</dd>\n",
       "\t<dt>Thursday</dt>\n",
       "\t\t<dd>FALSE</dd>\n",
       "\t<dt>Friday</dt>\n",
       "\t\t<dd>TRUE</dd>\n",
       "</dl>\n"
      ],
      "text/latex": [
       "\\begin{description*}\n",
       "\\item[Monday] TRUE\n",
       "\\item[Tuesday] FALSE\n",
       "\\item[Wednesday] FALSE\n",
       "\\item[Thursday] FALSE\n",
       "\\item[Friday] TRUE\n",
       "\\end{description*}\n"
      ],
      "text/markdown": [
       "Monday\n",
       ":   TRUETuesday\n",
       ":   FALSEWednesday\n",
       ":   FALSEThursday\n",
       ":   FALSEFriday\n",
       ":   TRUE\n",
       "\n"
      ],
      "text/plain": [
       "   Monday   Tuesday Wednesday  Thursday    Friday \n",
       "     TRUE     FALSE     FALSE     FALSE      TRUE "
      ]
     },
     "metadata": {},
     "output_type": "display_data"
    },
    {
     "data": {
      "text/html": [
       "<dl class=dl-horizontal>\n",
       "\t<dt>Monday</dt>\n",
       "\t\t<dd>24</dd>\n",
       "\t<dt>Friday</dt>\n",
       "\t\t<dd>23</dd>\n",
       "</dl>\n"
      ],
      "text/latex": [
       "\\begin{description*}\n",
       "\\item[Monday] 24\n",
       "\\item[Friday] 23\n",
       "\\end{description*}\n"
      ],
      "text/markdown": [
       "Monday\n",
       ":   24Friday\n",
       ":   23\n",
       "\n"
      ],
      "text/plain": [
       "Monday Friday \n",
       "    24     23 "
      ]
     },
     "metadata": {},
     "output_type": "display_data"
    },
    {
     "data": {
      "text/html": [
       "<dl class=dl-horizontal>\n",
       "\t<dt>Monday</dt>\n",
       "\t\t<dd>24</dd>\n",
       "\t<dt>Friday</dt>\n",
       "\t\t<dd>23</dd>\n",
       "</dl>\n"
      ],
      "text/latex": [
       "\\begin{description*}\n",
       "\\item[Monday] 24\n",
       "\\item[Friday] 23\n",
       "\\end{description*}\n"
      ],
      "text/markdown": [
       "Monday\n",
       ":   24Friday\n",
       ":   23\n",
       "\n"
      ],
      "text/plain": [
       "Monday Friday \n",
       "    24     23 "
      ]
     },
     "metadata": {},
     "output_type": "display_data"
    }
   ],
   "source": [
    "# Logical operations are performed element-wise with vectors, returning a list of logical variables.\n",
    "daily_costs > 22\n",
    "\n",
    "# It therefore follows that a logical operation can be used to select which elements we want.\n",
    "# Under the hood, you are forming a vector of logical variables,\n",
    "# then passing that vector into your vector of interest.\n",
    "daily_costs[c(TRUE, FALSE, FALSE, FALSE, TRUE)]\n",
    "daily_costs[daily_costs > 22]"
   ]
  },
  {
   "cell_type": "code",
   "execution_count": 14,
   "metadata": {
    "scrolled": false
   },
   "outputs": [
    {
     "data": {
      "text/html": [
       "<strong>Friday:</strong> 23"
      ],
      "text/latex": [
       "\\textbf{Friday:} 23"
      ],
      "text/markdown": [
       "**Friday:** 23"
      ],
      "text/plain": [
       "Friday \n",
       "    23 "
      ]
     },
     "metadata": {},
     "output_type": "display_data"
    },
    {
     "data": {
      "text/html": [
       "<dl class=dl-horizontal>\n",
       "\t<dt>Monday</dt>\n",
       "\t\t<dd>74</dd>\n",
       "\t<dt>Tuesday</dt>\n",
       "\t\t<dd>75</dd>\n",
       "\t<dt>Thursday</dt>\n",
       "\t\t<dd>72</dd>\n",
       "</dl>\n"
      ],
      "text/latex": [
       "\\begin{description*}\n",
       "\\item[Monday] 74\n",
       "\\item[Tuesday] 75\n",
       "\\item[Thursday] 72\n",
       "\\end{description*}\n"
      ],
      "text/markdown": [
       "Monday\n",
       ":   74Tuesday\n",
       ":   75Thursday\n",
       ":   72\n",
       "\n"
      ],
      "text/plain": [
       "  Monday  Tuesday Thursday \n",
       "      74       75       72 "
      ]
     },
     "metadata": {},
     "output_type": "display_data"
    }
   ],
   "source": [
    "# We can also define multiple conditions.\n",
    "daily_costs[daily_costs > 22 & daily_costs < 24]\n",
    "c(daily_revenue - daily_costs)[c(daily_revenue - daily_costs) > 70]"
   ]
  },
  {
   "cell_type": "markdown",
   "metadata": {},
   "source": [
    "# Factors"
   ]
  },
  {
   "cell_type": "code",
   "execution_count": 15,
   "metadata": {},
   "outputs": [
    {
     "data": {
      "text/html": [
       "'factor'"
      ],
      "text/latex": [
       "'factor'"
      ],
      "text/markdown": [
       "'factor'"
      ],
      "text/plain": [
       "[1] \"factor\""
      ]
     },
     "metadata": {},
     "output_type": "display_data"
    },
    {
     "data": {
      "text/html": [
       "<dl class=dl-horizontal>\n",
       "\t<dt>A</dt>\n",
       "\t\t<dd>4</dd>\n",
       "\t<dt>F</dt>\n",
       "\t\t<dd>3</dd>\n",
       "\t<dt>S</dt>\n",
       "\t\t<dd>2</dd>\n",
       "</dl>\n"
      ],
      "text/latex": [
       "\\begin{description*}\n",
       "\\item[A] 4\n",
       "\\item[F] 3\n",
       "\\item[S] 2\n",
       "\\end{description*}\n"
      ],
      "text/markdown": [
       "A\n",
       ":   4F\n",
       ":   3S\n",
       ":   2\n",
       "\n"
      ],
      "text/plain": [
       "A F S \n",
       "4 3 2 "
      ]
     },
     "metadata": {},
     "output_type": "display_data"
    }
   ],
   "source": [
    "# Factors are a data type used to store repetitive categorical data.\n",
    "# You can create a factor by passing a vector into the function factor().\n",
    "speeds <- c(\"S\", \"A\", \"A\", \"F\", \"A\", \"S\", \"F\", \"A\", \"F\")\n",
    "speeds_factor <- factor(speeds)\n",
    "class(speeds_factor)\n",
    "\n",
    "# You can then use the summary() function for a summary of the levels that make up the factor\n",
    "summary(speeds_factor)"
   ]
  },
  {
   "cell_type": "code",
   "execution_count": 16,
   "metadata": {},
   "outputs": [
    {
     "data": {
      "text/html": [
       "<dl class=dl-horizontal>\n",
       "\t<dt>Slow</dt>\n",
       "\t\t<dd>4</dd>\n",
       "\t<dt>Average</dt>\n",
       "\t\t<dd>3</dd>\n",
       "\t<dt>Fast</dt>\n",
       "\t\t<dd>2</dd>\n",
       "</dl>\n"
      ],
      "text/latex": [
       "\\begin{description*}\n",
       "\\item[Slow] 4\n",
       "\\item[Average] 3\n",
       "\\item[Fast] 2\n",
       "\\end{description*}\n"
      ],
      "text/markdown": [
       "Slow\n",
       ":   4Average\n",
       ":   3Fast\n",
       ":   2\n",
       "\n"
      ],
      "text/plain": [
       "   Slow Average    Fast \n",
       "      4       3       2 "
      ]
     },
     "metadata": {},
     "output_type": "display_data"
    },
    {
     "data": {
      "text/html": [
       "<dl class=dl-horizontal>\n",
       "\t<dt>Average</dt>\n",
       "\t\t<dd>4</dd>\n",
       "\t<dt>Fast</dt>\n",
       "\t\t<dd>3</dd>\n",
       "\t<dt>Slow</dt>\n",
       "\t\t<dd>2</dd>\n",
       "</dl>\n"
      ],
      "text/latex": [
       "\\begin{description*}\n",
       "\\item[Average] 4\n",
       "\\item[Fast] 3\n",
       "\\item[Slow] 2\n",
       "\\end{description*}\n"
      ],
      "text/markdown": [
       "Average\n",
       ":   4Fast\n",
       ":   3Slow\n",
       ":   2\n",
       "\n"
      ],
      "text/plain": [
       "Average    Fast    Slow \n",
       "      4       3       2 "
      ]
     },
     "metadata": {},
     "output_type": "display_data"
    }
   ],
   "source": [
    "# You can use the levels function to define each distinct category, or \"level,\" within a factor.\n",
    "# WARNING: THE ORDER WITH WHICH YOU ASSIGN LEVELS IS IMPORTANT.\n",
    "\n",
    "# R automatically puts categories in alphabetical order when defining a factor.\n",
    "# but R assigns each category a level in the order you define each level.\n",
    "\n",
    "# In our example, we have \"S\" (Slow), \"A\" (Average), and \"F\" (Fast).\n",
    "# R automatically orders the categories: A, F, S.\n",
    "# Therefore, we must define the levels with the same order: \"Average,\" then \"Fast,\" then \"Slow.\"\n",
    "# Compare the following assignments:\n",
    "levels(speeds_factor) <- c(\"Slow\", \"Average\", \"Fast\")\n",
    "summary(speeds_factor)\n",
    "\n",
    "levels(speeds_factor) <- c(\"Average\", \"Fast\", \"Slow\")\n",
    "summary(speeds_factor)"
   ]
  },
  {
   "cell_type": "code",
   "execution_count": 17,
   "metadata": {},
   "outputs": [
    {
     "data": {
      "text/html": [
       "<dl class=dl-horizontal>\n",
       "\t<dt>Bad</dt>\n",
       "\t\t<dd>2</dd>\n",
       "\t<dt>Good</dt>\n",
       "\t\t<dd>3</dd>\n",
       "\t<dt>Needs Improvement</dt>\n",
       "\t\t<dd>4</dd>\n",
       "</dl>\n"
      ],
      "text/latex": [
       "\\begin{description*}\n",
       "\\item[Bad] 2\n",
       "\\item[Good] 3\n",
       "\\item[Needs Improvement] 4\n",
       "\\end{description*}\n"
      ],
      "text/markdown": [
       "Bad\n",
       ":   2Good\n",
       ":   3Needs Improvement\n",
       ":   4\n",
       "\n"
      ],
      "text/plain": [
       "              Bad              Good Needs Improvement \n",
       "                2                 3                 4 "
      ]
     },
     "metadata": {},
     "output_type": "display_data"
    },
    {
     "data": {
      "text/html": [
       "<dl class=dl-horizontal>\n",
       "\t<dt>Bad</dt>\n",
       "\t\t<dd>2</dd>\n",
       "\t<dt>Needs Improvement</dt>\n",
       "\t\t<dd>4</dd>\n",
       "\t<dt>Good</dt>\n",
       "\t\t<dd>3</dd>\n",
       "</dl>\n"
      ],
      "text/latex": [
       "\\begin{description*}\n",
       "\\item[Bad] 2\n",
       "\\item[Needs Improvement] 4\n",
       "\\item[Good] 3\n",
       "\\end{description*}\n"
      ],
      "text/markdown": [
       "Bad\n",
       ":   2Needs Improvement\n",
       ":   4Good\n",
       ":   3\n",
       "\n"
      ],
      "text/plain": [
       "              Bad Needs Improvement              Good \n",
       "                2                 4                 3 "
      ]
     },
     "metadata": {},
     "output_type": "display_data"
    },
    {
     "data": {
      "text/html": [
       "<ol class=list-inline>\n",
       "\t<li>Good</li>\n",
       "\t<li>Needs Improvement</li>\n",
       "\t<li>Needs Improvement</li>\n",
       "\t<li>Bad</li>\n",
       "\t<li>Needs Improvement</li>\n",
       "\t<li>Bad</li>\n",
       "\t<li>Good</li>\n",
       "\t<li>Needs Improvement</li>\n",
       "\t<li>Good</li>\n",
       "</ol>\n",
       "\n",
       "<details>\n",
       "\t<summary style=display:list-item;cursor:pointer>\n",
       "\t\t<strong>Levels</strong>:\n",
       "\t</summary>\n",
       "\t<ol class=list-inline>\n",
       "\t\t<li>'Bad'</li>\n",
       "\t\t<li>'Needs Improvement'</li>\n",
       "\t\t<li>'Good'</li>\n",
       "\t</ol>\n",
       "</details>"
      ],
      "text/latex": [
       "\\begin{enumerate*}\n",
       "\\item Good\n",
       "\\item Needs Improvement\n",
       "\\item Needs Improvement\n",
       "\\item Bad\n",
       "\\item Needs Improvement\n",
       "\\item Bad\n",
       "\\item Good\n",
       "\\item Needs Improvement\n",
       "\\item Good\n",
       "\\end{enumerate*}\n",
       "\n",
       "\\emph{Levels}: \\begin{enumerate*}\n",
       "\\item 'Bad'\n",
       "\\item 'Needs Improvement'\n",
       "\\item 'Good'\n",
       "\\end{enumerate*}\n"
      ],
      "text/markdown": [
       "1. Good\n",
       "2. Needs Improvement\n",
       "3. Needs Improvement\n",
       "4. Bad\n",
       "5. Needs Improvement\n",
       "6. Bad\n",
       "7. Good\n",
       "8. Needs Improvement\n",
       "9. Good\n",
       "\n",
       "\n",
       "\n",
       "**Levels**: 1. 'Bad'\n",
       "2. 'Needs Improvement'\n",
       "3. 'Good'\n",
       "\n",
       "\n"
      ],
      "text/plain": [
       "[1] Good              Needs Improvement Needs Improvement Bad              \n",
       "[5] Needs Improvement Bad               Good              Needs Improvement\n",
       "[9] Good             \n",
       "Levels: Bad < Needs Improvement < Good"
      ]
     },
     "metadata": {},
     "output_type": "display_data"
    },
    {
     "data": {
      "text/html": [
       "<ol class=list-inline>\n",
       "\t<li>'Bad'</li>\n",
       "\t<li>'Needs Improvement'</li>\n",
       "\t<li>'Good'</li>\n",
       "</ol>\n"
      ],
      "text/latex": [
       "\\begin{enumerate*}\n",
       "\\item 'Bad'\n",
       "\\item 'Needs Improvement'\n",
       "\\item 'Good'\n",
       "\\end{enumerate*}\n"
      ],
      "text/markdown": [
       "1. 'Bad'\n",
       "2. 'Needs Improvement'\n",
       "3. 'Good'\n",
       "\n",
       "\n"
      ],
      "text/plain": [
       "[1] \"Bad\"               \"Needs Improvement\" \"Good\"             "
      ]
     },
     "metadata": {},
     "output_type": "display_data"
    }
   ],
   "source": [
    "# In some cases, certain categories are \"better\" than others, as in this example.\n",
    "# The \"ordered\" parameter can be set to TRUE to specify this.\n",
    "# Note that this overrides R's default behavior of putting levels in alphabetical order.\n",
    "grades <- c(\"Good\", \"Needs Improvement\", \"Needs Improvement\", \"Bad\", \"Needs Improvement\", \"Bad\", \"Good\", \"Needs Improvement\", \"Good\")\n",
    "grades_factor <- factor(grades)\n",
    "summary(grades_factor)\n",
    "\n",
    "grades_factor <- factor(grades, ordered=TRUE, levels=c(\"Bad\", \"Needs Improvement\", \"Good\"))\n",
    "summary(grades_factor)\n",
    "\n",
    "grades_factor\n",
    "levels(grades_factor)\n",
    "# Note that the first \"Good\" appears in the factor before the first \"Bad,\"\n",
    "# calling the levels() function returns the level in the specified order."
   ]
  },
  {
   "cell_type": "code",
   "execution_count": 18,
   "metadata": {},
   "outputs": [
    {
     "data": {
      "text/html": [
       "FALSE"
      ],
      "text/latex": [
       "FALSE"
      ],
      "text/markdown": [
       "FALSE"
      ],
      "text/plain": [
       "[1] FALSE"
      ]
     },
     "metadata": {},
     "output_type": "display_data"
    },
    {
     "data": {
      "text/html": [
       "TRUE"
      ],
      "text/latex": [
       "TRUE"
      ],
      "text/markdown": [
       "TRUE"
      ],
      "text/plain": [
       "[1] TRUE"
      ]
     },
     "metadata": {},
     "output_type": "display_data"
    }
   ],
   "source": [
    "# If you give the categories in a factor a defined order, you can perform logical operations.\n",
    "# The third element of grades_factor is \"Needs Improvement,\" and the seventh element is \"Good.\"\n",
    "# Because we gave each level an order, \"Needs Improvement\" is seen as less than \"Good.\"\n",
    "grades_factor[3] > grades_factor[7]\n",
    "# Likewise, the third element \"Needs Improvement\" is seen as more than the sixth element \"Bad.\"\n",
    "grades_factor[3] > grades[6]"
   ]
  },
  {
   "cell_type": "markdown",
   "metadata": {},
   "source": [
    "# Dataframes"
   ]
  },
  {
   "cell_type": "code",
   "execution_count": 19,
   "metadata": {},
   "outputs": [
    {
     "data": {
      "text/html": [
       "'data.frame'"
      ],
      "text/latex": [
       "'data.frame'"
      ],
      "text/markdown": [
       "'data.frame'"
      ],
      "text/plain": [
       "[1] \"data.frame\""
      ]
     },
     "metadata": {},
     "output_type": "display_data"
    },
    {
     "data": {
      "text/html": [
       "<table>\n",
       "<thead><tr><th scope=col>days</th><th scope=col>revenues</th><th scope=col>costs</th><th scope=col>type_of_day</th></tr></thead>\n",
       "<tbody>\n",
       "\t<tr><td>Sunday   </td><td> 0       </td><td> 0       </td><td>Weekend  </td></tr>\n",
       "\t<tr><td>Monday   </td><td>98       </td><td>24       </td><td>Workday  </td></tr>\n",
       "\t<tr><td>Tuesday  </td><td> 0       </td><td> 0       </td><td>Holiday  </td></tr>\n",
       "\t<tr><td>Wednesday</td><td>92       </td><td>22       </td><td>Workday  </td></tr>\n",
       "\t<tr><td>Thursday </td><td>94       </td><td>22       </td><td>Workday  </td></tr>\n",
       "\t<tr><td>Friday   </td><td>93       </td><td>23       </td><td>Workday  </td></tr>\n",
       "\t<tr><td>Saturday </td><td> 0       </td><td> 0       </td><td>Weekend  </td></tr>\n",
       "</tbody>\n",
       "</table>\n"
      ],
      "text/latex": [
       "\\begin{tabular}{r|llll}\n",
       " days & revenues & costs & type\\_of\\_day\\\\\n",
       "\\hline\n",
       "\t Sunday    &  0        &  0        & Weekend  \\\\\n",
       "\t Monday    & 98        & 24        & Workday  \\\\\n",
       "\t Tuesday   &  0        &  0        & Holiday  \\\\\n",
       "\t Wednesday & 92        & 22        & Workday  \\\\\n",
       "\t Thursday  & 94        & 22        & Workday  \\\\\n",
       "\t Friday    & 93        & 23        & Workday  \\\\\n",
       "\t Saturday  &  0        &  0        & Weekend  \\\\\n",
       "\\end{tabular}\n"
      ],
      "text/markdown": [
       "\n",
       "| days | revenues | costs | type_of_day |\n",
       "|---|---|---|---|\n",
       "| Sunday    |  0        |  0        | Weekend   |\n",
       "| Monday    | 98        | 24        | Workday   |\n",
       "| Tuesday   |  0        |  0        | Holiday   |\n",
       "| Wednesday | 92        | 22        | Workday   |\n",
       "| Thursday  | 94        | 22        | Workday   |\n",
       "| Friday    | 93        | 23        | Workday   |\n",
       "| Saturday  |  0        |  0        | Weekend   |\n",
       "\n"
      ],
      "text/plain": [
       "  days      revenues costs type_of_day\n",
       "1 Sunday     0        0    Weekend    \n",
       "2 Monday    98       24    Workday    \n",
       "3 Tuesday    0        0    Holiday    \n",
       "4 Wednesday 92       22    Workday    \n",
       "5 Thursday  94       22    Workday    \n",
       "6 Friday    93       23    Workday    \n",
       "7 Saturday   0        0    Weekend    "
      ]
     },
     "metadata": {},
     "output_type": "display_data"
    }
   ],
   "source": [
    "# Define vectors of different classes\n",
    "days <- c(\"Sunday\", \"Monday\", \"Tuesday\", \"Wednesday\", \"Thursday\", \"Friday\", \"Saturday\")\n",
    "revenues <- c(0, 98, 0, 92, 94, 93, 0)\n",
    "costs <- c(0, 24, 0, 22, 22, 23, 0)\n",
    "type_of_day <- c(\"Weekend\", \"Workday\", \"Holiday\", \"Workday\", \"Workday\", \"Workday\", \"Weekend\")\n",
    "\n",
    "# Unlike matrices, the columns in dataframs can contain different datatypes\n",
    "company <- data.frame(days, revenues, costs, type_of_day)\n",
    "class(company)\n",
    "company"
   ]
  },
  {
   "cell_type": "code",
   "execution_count": 20,
   "metadata": {},
   "outputs": [
    {
     "data": {
      "text/html": [
       "<table>\n",
       "<thead><tr><th scope=col>days</th><th scope=col>revenues</th><th scope=col>costs</th><th scope=col>type_of_day</th><th scope=col>profits</th><th scope=col>workday</th></tr></thead>\n",
       "<tbody>\n",
       "\t<tr><td>Sunday   </td><td> 0       </td><td> 0       </td><td>Weekend  </td><td> 0       </td><td>FALSE    </td></tr>\n",
       "\t<tr><td>Monday   </td><td>98       </td><td>24       </td><td>Workday  </td><td>74       </td><td> TRUE    </td></tr>\n",
       "\t<tr><td>Tuesday  </td><td> 0       </td><td> 0       </td><td>Holiday  </td><td> 0       </td><td>FALSE    </td></tr>\n",
       "\t<tr><td>Wednesday</td><td>92       </td><td>22       </td><td>Workday  </td><td>70       </td><td> TRUE    </td></tr>\n",
       "\t<tr><td>Thursday </td><td>94       </td><td>22       </td><td>Workday  </td><td>72       </td><td> TRUE    </td></tr>\n",
       "\t<tr><td>Friday   </td><td>93       </td><td>23       </td><td>Workday  </td><td>70       </td><td> TRUE    </td></tr>\n",
       "\t<tr><td>Saturday </td><td> 0       </td><td> 0       </td><td>Weekend  </td><td> 0       </td><td>FALSE    </td></tr>\n",
       "</tbody>\n",
       "</table>\n"
      ],
      "text/latex": [
       "\\begin{tabular}{r|llllll}\n",
       " days & revenues & costs & type\\_of\\_day & profits & workday\\\\\n",
       "\\hline\n",
       "\t Sunday    &  0        &  0        & Weekend   &  0        & FALSE    \\\\\n",
       "\t Monday    & 98        & 24        & Workday   & 74        &  TRUE    \\\\\n",
       "\t Tuesday   &  0        &  0        & Holiday   &  0        & FALSE    \\\\\n",
       "\t Wednesday & 92        & 22        & Workday   & 70        &  TRUE    \\\\\n",
       "\t Thursday  & 94        & 22        & Workday   & 72        &  TRUE    \\\\\n",
       "\t Friday    & 93        & 23        & Workday   & 70        &  TRUE    \\\\\n",
       "\t Saturday  &  0        &  0        & Weekend   &  0        & FALSE    \\\\\n",
       "\\end{tabular}\n"
      ],
      "text/markdown": [
       "\n",
       "| days | revenues | costs | type_of_day | profits | workday |\n",
       "|---|---|---|---|---|---|\n",
       "| Sunday    |  0        |  0        | Weekend   |  0        | FALSE     |\n",
       "| Monday    | 98        | 24        | Workday   | 74        |  TRUE     |\n",
       "| Tuesday   |  0        |  0        | Holiday   |  0        | FALSE     |\n",
       "| Wednesday | 92        | 22        | Workday   | 70        |  TRUE     |\n",
       "| Thursday  | 94        | 22        | Workday   | 72        |  TRUE     |\n",
       "| Friday    | 93        | 23        | Workday   | 70        |  TRUE     |\n",
       "| Saturday  |  0        |  0        | Weekend   |  0        | FALSE     |\n",
       "\n"
      ],
      "text/plain": [
       "  days      revenues costs type_of_day profits workday\n",
       "1 Sunday     0        0    Weekend      0      FALSE  \n",
       "2 Monday    98       24    Workday     74       TRUE  \n",
       "3 Tuesday    0        0    Holiday      0      FALSE  \n",
       "4 Wednesday 92       22    Workday     70       TRUE  \n",
       "5 Thursday  94       22    Workday     72       TRUE  \n",
       "6 Friday    93       23    Workday     70       TRUE  \n",
       "7 Saturday   0        0    Weekend      0      FALSE  "
      ]
     },
     "metadata": {},
     "output_type": "display_data"
    }
   ],
   "source": [
    "# You can use existing columns to creaate new columns\n",
    "company$profits <- company$revenues - company$costs\n",
    "company$workday <- with(company, ifelse(type_of_day == \"Workday\", TRUE, FALSE))\n",
    "company"
   ]
  },
  {
   "cell_type": "code",
   "execution_count": 21,
   "metadata": {},
   "outputs": [
    {
     "name": "stdout",
     "output_type": "stream",
     "text": [
      "'data.frame':\t7 obs. of  6 variables:\n",
      " $ days       : Factor w/ 7 levels \"Friday\",\"Monday\",..: 4 2 6 7 5 1 3\n",
      " $ revenues   : num  0 98 0 92 94 93 0\n",
      " $ costs      : num  0 24 0 22 22 23 0\n",
      " $ type_of_day: Factor w/ 3 levels \"Holiday\",\"Weekend\",..: 2 3 1 3 3 3 2\n",
      " $ profits    : num  0 74 0 70 72 70 0\n",
      " $ workday    : logi  FALSE TRUE FALSE TRUE TRUE TRUE ...\n"
     ]
    },
    {
     "name": "stderr",
     "output_type": "stream",
     "text": [
      "Warning message:\n",
      "\"package 'dplyr' was built under R version 3.6.3\"\n",
      "Attaching package: 'dplyr'\n",
      "\n",
      "The following objects are masked from 'package:stats':\n",
      "\n",
      "    filter, lag\n",
      "\n",
      "The following objects are masked from 'package:base':\n",
      "\n",
      "    intersect, setdiff, setequal, union\n",
      "\n"
     ]
    },
    {
     "name": "stdout",
     "output_type": "stream",
     "text": [
      "\n",
      "Rows: 7\n",
      "Columns: 6\n",
      "$ days        <fct> Sunday, Monday, Tuesday, Wednesday, Thursday, Friday, S...\n",
      "$ revenues    <dbl> 0, 98, 0, 92, 94, 93, 0\n",
      "$ costs       <dbl> 0, 24, 0, 22, 22, 23, 0\n",
      "$ type_of_day <fct> Weekend, Workday, Holiday, Workday, Workday, Workday, W...\n",
      "$ profits     <dbl> 0, 74, 0, 70, 72, 70, 0\n",
      "$ workday     <lgl> FALSE, TRUE, FALSE, TRUE, TRUE, TRUE, FALSE\n"
     ]
    }
   ],
   "source": [
    "# The defaul R function to get a summary of a dataframe is str()\n",
    "str(company)\n",
    "# Within the dplyr library is an alternative function - glimpse\n",
    "library(\"dplyr\")\n",
    "cat(\"\\n\")\n",
    "\n",
    "glimpse(company)"
   ]
  },
  {
   "cell_type": "code",
   "execution_count": 22,
   "metadata": {},
   "outputs": [
    {
     "data": {
      "text/html": [
       "<ol class=list-inline>\n",
       "\t<li>FALSE</li>\n",
       "\t<li>TRUE</li>\n",
       "\t<li>FALSE</li>\n",
       "\t<li>FALSE</li>\n",
       "\t<li>TRUE</li>\n",
       "\t<li>FALSE</li>\n",
       "\t<li>FALSE</li>\n",
       "</ol>\n"
      ],
      "text/latex": [
       "\\begin{enumerate*}\n",
       "\\item FALSE\n",
       "\\item TRUE\n",
       "\\item FALSE\n",
       "\\item FALSE\n",
       "\\item TRUE\n",
       "\\item FALSE\n",
       "\\item FALSE\n",
       "\\end{enumerate*}\n"
      ],
      "text/markdown": [
       "1. FALSE\n",
       "2. TRUE\n",
       "3. FALSE\n",
       "4. FALSE\n",
       "5. TRUE\n",
       "6. FALSE\n",
       "7. FALSE\n",
       "\n",
       "\n"
      ],
      "text/plain": [
       "[1] FALSE  TRUE FALSE FALSE  TRUE FALSE FALSE"
      ]
     },
     "metadata": {},
     "output_type": "display_data"
    },
    {
     "name": "stdout",
     "output_type": "stream",
     "text": [
      "\n"
     ]
    },
    {
     "data": {
      "text/html": [
       "<table>\n",
       "<thead><tr><th></th><th scope=col>days</th><th scope=col>revenues</th><th scope=col>costs</th><th scope=col>type_of_day</th><th scope=col>profits</th><th scope=col>workday</th></tr></thead>\n",
       "<tbody>\n",
       "\t<tr><th scope=row>2</th><td>Monday  </td><td>98      </td><td>24      </td><td>Workday </td><td>74      </td><td>TRUE    </td></tr>\n",
       "\t<tr><th scope=row>5</th><td>Thursday</td><td>94      </td><td>22      </td><td>Workday </td><td>72      </td><td>TRUE    </td></tr>\n",
       "</tbody>\n",
       "</table>\n"
      ],
      "text/latex": [
       "\\begin{tabular}{r|llllll}\n",
       "  & days & revenues & costs & type\\_of\\_day & profits & workday\\\\\n",
       "\\hline\n",
       "\t2 & Monday   & 98       & 24       & Workday  & 74       & TRUE    \\\\\n",
       "\t5 & Thursday & 94       & 22       & Workday  & 72       & TRUE    \\\\\n",
       "\\end{tabular}\n"
      ],
      "text/markdown": [
       "\n",
       "| <!--/--> | days | revenues | costs | type_of_day | profits | workday |\n",
       "|---|---|---|---|---|---|---|\n",
       "| 2 | Monday   | 98       | 24       | Workday  | 74       | TRUE     |\n",
       "| 5 | Thursday | 94       | 22       | Workday  | 72       | TRUE     |\n",
       "\n"
      ],
      "text/plain": [
       "  days     revenues costs type_of_day profits workday\n",
       "2 Monday   98       24    Workday     74      TRUE   \n",
       "5 Thursday 94       22    Workday     72      TRUE   "
      ]
     },
     "metadata": {},
     "output_type": "display_data"
    },
    {
     "data": {
      "text/html": [
       "<table>\n",
       "<thead><tr><th></th><th scope=col>days</th><th scope=col>revenues</th><th scope=col>costs</th><th scope=col>type_of_day</th><th scope=col>profits</th><th scope=col>workday</th></tr></thead>\n",
       "<tbody>\n",
       "\t<tr><th scope=row>2</th><td>Monday  </td><td>98      </td><td>24      </td><td>Workday </td><td>74      </td><td>TRUE    </td></tr>\n",
       "\t<tr><th scope=row>5</th><td>Thursday</td><td>94      </td><td>22      </td><td>Workday </td><td>72      </td><td>TRUE    </td></tr>\n",
       "</tbody>\n",
       "</table>\n"
      ],
      "text/latex": [
       "\\begin{tabular}{r|llllll}\n",
       "  & days & revenues & costs & type\\_of\\_day & profits & workday\\\\\n",
       "\\hline\n",
       "\t2 & Monday   & 98       & 24       & Workday  & 74       & TRUE    \\\\\n",
       "\t5 & Thursday & 94       & 22       & Workday  & 72       & TRUE    \\\\\n",
       "\\end{tabular}\n"
      ],
      "text/markdown": [
       "\n",
       "| <!--/--> | days | revenues | costs | type_of_day | profits | workday |\n",
       "|---|---|---|---|---|---|---|\n",
       "| 2 | Monday   | 98       | 24       | Workday  | 74       | TRUE     |\n",
       "| 5 | Thursday | 94       | 22       | Workday  | 72       | TRUE     |\n",
       "\n"
      ],
      "text/plain": [
       "  days     revenues costs type_of_day profits workday\n",
       "2 Monday   98       24    Workday     74      TRUE   \n",
       "5 Thursday 94       22    Workday     72      TRUE   "
      ]
     },
     "metadata": {},
     "output_type": "display_data"
    }
   ],
   "source": [
    "# We can use conditional statements to select a subset from dataframes\n",
    "company$workday == TRUE & company$profits > 70\n",
    "cat(\"\\n\")\n",
    "company[company$workday == TRUE & company$profits > 70, ]\n",
    "\n",
    "# The same result can be achived using the subset() function\n",
    "subset(company, workday==TRUE & profits>70)"
   ]
  },
  {
   "cell_type": "markdown",
   "metadata": {},
   "source": [
    "# Other base R functions"
   ]
  },
  {
   "cell_type": "markdown",
   "metadata": {},
   "source": [
    "## Sequences"
   ]
  },
  {
   "cell_type": "code",
   "execution_count": 23,
   "metadata": {},
   "outputs": [
    {
     "data": {
      "text/html": [
       "<ol class=list-inline>\n",
       "\t<li>1</li>\n",
       "\t<li>2</li>\n",
       "\t<li>3</li>\n",
       "\t<li>4</li>\n",
       "\t<li>5</li>\n",
       "</ol>\n"
      ],
      "text/latex": [
       "\\begin{enumerate*}\n",
       "\\item 1\n",
       "\\item 2\n",
       "\\item 3\n",
       "\\item 4\n",
       "\\item 5\n",
       "\\end{enumerate*}\n"
      ],
      "text/markdown": [
       "1. 1\n",
       "2. 2\n",
       "3. 3\n",
       "4. 4\n",
       "5. 5\n",
       "\n",
       "\n"
      ],
      "text/plain": [
       "[1] 1 2 3 4 5"
      ]
     },
     "metadata": {},
     "output_type": "display_data"
    },
    {
     "data": {
      "text/html": [
       "<ol class=list-inline>\n",
       "\t<li>1</li>\n",
       "\t<li>2</li>\n",
       "\t<li>3</li>\n",
       "\t<li>4</li>\n",
       "\t<li>5</li>\n",
       "</ol>\n"
      ],
      "text/latex": [
       "\\begin{enumerate*}\n",
       "\\item 1\n",
       "\\item 2\n",
       "\\item 3\n",
       "\\item 4\n",
       "\\item 5\n",
       "\\end{enumerate*}\n"
      ],
      "text/markdown": [
       "1. 1\n",
       "2. 2\n",
       "3. 3\n",
       "4. 4\n",
       "5. 5\n",
       "\n",
       "\n"
      ],
      "text/plain": [
       "[1] 1 2 3 4 5"
      ]
     },
     "metadata": {},
     "output_type": "display_data"
    },
    {
     "data": {
      "text/html": [
       "<ol class=list-inline>\n",
       "\t<li>1</li>\n",
       "\t<li>2</li>\n",
       "\t<li>3</li>\n",
       "\t<li>4</li>\n",
       "\t<li>5</li>\n",
       "\t<li>6</li>\n",
       "\t<li>7</li>\n",
       "</ol>\n"
      ],
      "text/latex": [
       "\\begin{enumerate*}\n",
       "\\item 1\n",
       "\\item 2\n",
       "\\item 3\n",
       "\\item 4\n",
       "\\item 5\n",
       "\\item 6\n",
       "\\item 7\n",
       "\\end{enumerate*}\n"
      ],
      "text/markdown": [
       "1. 1\n",
       "2. 2\n",
       "3. 3\n",
       "4. 4\n",
       "5. 5\n",
       "6. 6\n",
       "7. 7\n",
       "\n",
       "\n"
      ],
      "text/plain": [
       "[1] 1 2 3 4 5 6 7"
      ]
     },
     "metadata": {},
     "output_type": "display_data"
    },
    {
     "data": {
      "text/html": [
       "<ol class=list-inline>\n",
       "\t<li>1</li>\n",
       "\t<li>2</li>\n",
       "\t<li>3</li>\n",
       "\t<li>4</li>\n",
       "\t<li>5</li>\n",
       "\t<li>6</li>\n",
       "\t<li>7</li>\n",
       "</ol>\n"
      ],
      "text/latex": [
       "\\begin{enumerate*}\n",
       "\\item 1\n",
       "\\item 2\n",
       "\\item 3\n",
       "\\item 4\n",
       "\\item 5\n",
       "\\item 6\n",
       "\\item 7\n",
       "\\end{enumerate*}\n"
      ],
      "text/markdown": [
       "1. 1\n",
       "2. 2\n",
       "3. 3\n",
       "4. 4\n",
       "5. 5\n",
       "6. 6\n",
       "7. 7\n",
       "\n",
       "\n"
      ],
      "text/plain": [
       "[1] 1 2 3 4 5 6 7"
      ]
     },
     "metadata": {},
     "output_type": "display_data"
    }
   ],
   "source": [
    "# You can create sequences of numbers with the seq() function.\n",
    "# You can specify the starting and ending number with the parameters from= and to=.\n",
    "numbers <- seq(from = 1, to = 5)\n",
    "numbers\n",
    "\n",
    "# For shorthand, you can simply type the starting and ending numbers.\n",
    "numbers <- seq(1, 5)\n",
    "numbers\n",
    "\n",
    "# Alternatively, you can use the syntax seq(a:b),\n",
    "# where a is the starting number, and b is the ending number.\n",
    "numbers <- seq(1:7)\n",
    "numbers\n",
    "\n",
    "# When using the colon-syntax, you are not required to use the seq() function at all.\n",
    "# That is, the exact code would simply read \"a:b\"\n",
    "1:7"
   ]
  },
  {
   "cell_type": "code",
   "execution_count": 24,
   "metadata": {},
   "outputs": [
    {
     "data": {
      "text/html": [
       "<ol class=list-inline>\n",
       "\t<li>1</li>\n",
       "\t<li>3</li>\n",
       "\t<li>5</li>\n",
       "\t<li>7</li>\n",
       "\t<li>9</li>\n",
       "</ol>\n"
      ],
      "text/latex": [
       "\\begin{enumerate*}\n",
       "\\item 1\n",
       "\\item 3\n",
       "\\item 5\n",
       "\\item 7\n",
       "\\item 9\n",
       "\\end{enumerate*}\n"
      ],
      "text/markdown": [
       "1. 1\n",
       "2. 3\n",
       "3. 5\n",
       "4. 7\n",
       "5. 9\n",
       "\n",
       "\n"
      ],
      "text/plain": [
       "[1] 1 3 5 7 9"
      ]
     },
     "metadata": {},
     "output_type": "display_data"
    },
    {
     "data": {
      "text/html": [
       "<ol class=list-inline>\n",
       "\t<li>1</li>\n",
       "\t<li>1.2</li>\n",
       "\t<li>1.4</li>\n",
       "\t<li>1.6</li>\n",
       "\t<li>1.8</li>\n",
       "\t<li>2</li>\n",
       "\t<li>2.2</li>\n",
       "\t<li>2.4</li>\n",
       "\t<li>2.6</li>\n",
       "\t<li>2.8</li>\n",
       "\t<li>3</li>\n",
       "\t<li>3.2</li>\n",
       "\t<li>3.4</li>\n",
       "\t<li>3.6</li>\n",
       "\t<li>3.8</li>\n",
       "\t<li>4</li>\n",
       "\t<li>4.2</li>\n",
       "\t<li>4.4</li>\n",
       "\t<li>4.6</li>\n",
       "\t<li>4.8</li>\n",
       "\t<li>5</li>\n",
       "\t<li>5.2</li>\n",
       "\t<li>5.4</li>\n",
       "\t<li>5.6</li>\n",
       "\t<li>5.8</li>\n",
       "\t<li>6</li>\n",
       "\t<li>6.2</li>\n",
       "\t<li>6.4</li>\n",
       "\t<li>6.6</li>\n",
       "\t<li>6.8</li>\n",
       "\t<li>7</li>\n",
       "\t<li>7.2</li>\n",
       "\t<li>7.4</li>\n",
       "\t<li>7.6</li>\n",
       "\t<li>7.8</li>\n",
       "\t<li>8</li>\n",
       "\t<li>8.2</li>\n",
       "\t<li>8.4</li>\n",
       "\t<li>8.6</li>\n",
       "\t<li>8.8</li>\n",
       "\t<li>9</li>\n",
       "\t<li>9.2</li>\n",
       "\t<li>9.4</li>\n",
       "\t<li>9.6</li>\n",
       "\t<li>9.8</li>\n",
       "\t<li>10</li>\n",
       "</ol>\n"
      ],
      "text/latex": [
       "\\begin{enumerate*}\n",
       "\\item 1\n",
       "\\item 1.2\n",
       "\\item 1.4\n",
       "\\item 1.6\n",
       "\\item 1.8\n",
       "\\item 2\n",
       "\\item 2.2\n",
       "\\item 2.4\n",
       "\\item 2.6\n",
       "\\item 2.8\n",
       "\\item 3\n",
       "\\item 3.2\n",
       "\\item 3.4\n",
       "\\item 3.6\n",
       "\\item 3.8\n",
       "\\item 4\n",
       "\\item 4.2\n",
       "\\item 4.4\n",
       "\\item 4.6\n",
       "\\item 4.8\n",
       "\\item 5\n",
       "\\item 5.2\n",
       "\\item 5.4\n",
       "\\item 5.6\n",
       "\\item 5.8\n",
       "\\item 6\n",
       "\\item 6.2\n",
       "\\item 6.4\n",
       "\\item 6.6\n",
       "\\item 6.8\n",
       "\\item 7\n",
       "\\item 7.2\n",
       "\\item 7.4\n",
       "\\item 7.6\n",
       "\\item 7.8\n",
       "\\item 8\n",
       "\\item 8.2\n",
       "\\item 8.4\n",
       "\\item 8.6\n",
       "\\item 8.8\n",
       "\\item 9\n",
       "\\item 9.2\n",
       "\\item 9.4\n",
       "\\item 9.6\n",
       "\\item 9.8\n",
       "\\item 10\n",
       "\\end{enumerate*}\n"
      ],
      "text/markdown": [
       "1. 1\n",
       "2. 1.2\n",
       "3. 1.4\n",
       "4. 1.6\n",
       "5. 1.8\n",
       "6. 2\n",
       "7. 2.2\n",
       "8. 2.4\n",
       "9. 2.6\n",
       "10. 2.8\n",
       "11. 3\n",
       "12. 3.2\n",
       "13. 3.4\n",
       "14. 3.6\n",
       "15. 3.8\n",
       "16. 4\n",
       "17. 4.2\n",
       "18. 4.4\n",
       "19. 4.6\n",
       "20. 4.8\n",
       "21. 5\n",
       "22. 5.2\n",
       "23. 5.4\n",
       "24. 5.6\n",
       "25. 5.8\n",
       "26. 6\n",
       "27. 6.2\n",
       "28. 6.4\n",
       "29. 6.6\n",
       "30. 6.8\n",
       "31. 7\n",
       "32. 7.2\n",
       "33. 7.4\n",
       "34. 7.6\n",
       "35. 7.8\n",
       "36. 8\n",
       "37. 8.2\n",
       "38. 8.4\n",
       "39. 8.6\n",
       "40. 8.8\n",
       "41. 9\n",
       "42. 9.2\n",
       "43. 9.4\n",
       "44. 9.6\n",
       "45. 9.8\n",
       "46. 10\n",
       "\n",
       "\n"
      ],
      "text/plain": [
       " [1]  1.0  1.2  1.4  1.6  1.8  2.0  2.2  2.4  2.6  2.8  3.0  3.2  3.4  3.6  3.8\n",
       "[16]  4.0  4.2  4.4  4.6  4.8  5.0  5.2  5.4  5.6  5.8  6.0  6.2  6.4  6.6  6.8\n",
       "[31]  7.0  7.2  7.4  7.6  7.8  8.0  8.2  8.4  8.6  8.8  9.0  9.2  9.4  9.6  9.8\n",
       "[46] 10.0"
      ]
     },
     "metadata": {},
     "output_type": "display_data"
    }
   ],
   "source": [
    "# The by= parameter can be used to specify the step size.\n",
    "numbers <- seq(1,10, by=2)\n",
    "numbers\n",
    "numbers <- seq(1, 10, by=0.2)\n",
    "numbers"
   ]
  },
  {
   "cell_type": "code",
   "execution_count": 25,
   "metadata": {},
   "outputs": [
    {
     "data": {
      "text/html": [
       "<ol class=list-inline>\n",
       "\t<li>1</li>\n",
       "\t<li>5.5</li>\n",
       "\t<li>10</li>\n",
       "</ol>\n"
      ],
      "text/latex": [
       "\\begin{enumerate*}\n",
       "\\item 1\n",
       "\\item 5.5\n",
       "\\item 10\n",
       "\\end{enumerate*}\n"
      ],
      "text/markdown": [
       "1. 1\n",
       "2. 5.5\n",
       "3. 10\n",
       "\n",
       "\n"
      ],
      "text/plain": [
       "[1]  1.0  5.5 10.0"
      ]
     },
     "metadata": {},
     "output_type": "display_data"
    },
    {
     "data": {
      "text/html": [
       "<ol class=list-inline>\n",
       "\t<li>1</li>\n",
       "\t<li>1.11111111111111</li>\n",
       "\t<li>1.22222222222222</li>\n",
       "\t<li>1.33333333333333</li>\n",
       "\t<li>1.44444444444444</li>\n",
       "\t<li>1.55555555555556</li>\n",
       "\t<li>1.66666666666667</li>\n",
       "\t<li>1.77777777777778</li>\n",
       "\t<li>1.88888888888889</li>\n",
       "\t<li>2</li>\n",
       "</ol>\n"
      ],
      "text/latex": [
       "\\begin{enumerate*}\n",
       "\\item 1\n",
       "\\item 1.11111111111111\n",
       "\\item 1.22222222222222\n",
       "\\item 1.33333333333333\n",
       "\\item 1.44444444444444\n",
       "\\item 1.55555555555556\n",
       "\\item 1.66666666666667\n",
       "\\item 1.77777777777778\n",
       "\\item 1.88888888888889\n",
       "\\item 2\n",
       "\\end{enumerate*}\n"
      ],
      "text/markdown": [
       "1. 1\n",
       "2. 1.11111111111111\n",
       "3. 1.22222222222222\n",
       "4. 1.33333333333333\n",
       "5. 1.44444444444444\n",
       "6. 1.55555555555556\n",
       "7. 1.66666666666667\n",
       "8. 1.77777777777778\n",
       "9. 1.88888888888889\n",
       "10. 2\n",
       "\n",
       "\n"
      ],
      "text/plain": [
       " [1] 1.000000 1.111111 1.222222 1.333333 1.444444 1.555556 1.666667 1.777778\n",
       " [9] 1.888889 2.000000"
      ]
     },
     "metadata": {},
     "output_type": "display_data"
    }
   ],
   "source": [
    "# The length.out parameter can be used to specify the number of elements the sequence should have.\n",
    "numbers <- seq(1, 10, length.out=3)\n",
    "numbers\n",
    "\n",
    "numbers <- seq(1, 2, length.out=10)\n",
    "numbers"
   ]
  },
  {
   "cell_type": "code",
   "execution_count": 26,
   "metadata": {},
   "outputs": [
    {
     "data": {
      "text/html": [
       "<ol class=list-inline>\n",
       "\t<li>1</li>\n",
       "\t<li>1.33333333333333</li>\n",
       "\t<li>1.66666666666667</li>\n",
       "\t<li>2</li>\n",
       "\t<li>2.33333333333333</li>\n",
       "\t<li>2.66666666666667</li>\n",
       "\t<li>3</li>\n",
       "</ol>\n"
      ],
      "text/latex": [
       "\\begin{enumerate*}\n",
       "\\item 1\n",
       "\\item 1.33333333333333\n",
       "\\item 1.66666666666667\n",
       "\\item 2\n",
       "\\item 2.33333333333333\n",
       "\\item 2.66666666666667\n",
       "\\item 3\n",
       "\\end{enumerate*}\n"
      ],
      "text/markdown": [
       "1. 1\n",
       "2. 1.33333333333333\n",
       "3. 1.66666666666667\n",
       "4. 2\n",
       "5. 2.33333333333333\n",
       "6. 2.66666666666667\n",
       "7. 3\n",
       "\n",
       "\n"
      ],
      "text/plain": [
       "[1] 1.000000 1.333333 1.666667 2.000000 2.333333 2.666667 3.000000"
      ]
     },
     "metadata": {},
     "output_type": "display_data"
    }
   ],
   "source": [
    "# The along.with parameter can be set to another vector,\n",
    "# The resulting sequence will have the same length.\n",
    "# NOTE: The corresponding vector need not be the same data type.\n",
    "character_vector_of_length_7 <- c(\"this\", \"is\", \"not\", \"numeric\", \"this\", \"is\", \"character\")\n",
    "numeric_vector_of_length_7 <- seq(1, 3, along.with = character_vector_of_length_7)\n",
    "numeric_vector_of_length_7"
   ]
  },
  {
   "cell_type": "markdown",
   "metadata": {},
   "source": [
    "## Repititions"
   ]
  },
  {
   "cell_type": "code",
   "execution_count": 27,
   "metadata": {
    "scrolled": true
   },
   "outputs": [
    {
     "data": {
      "text/html": [
       "<ol class=list-inline>\n",
       "\t<li>5</li>\n",
       "\t<li>5</li>\n",
       "\t<li>5</li>\n",
       "</ol>\n"
      ],
      "text/latex": [
       "\\begin{enumerate*}\n",
       "\\item 5\n",
       "\\item 5\n",
       "\\item 5\n",
       "\\end{enumerate*}\n"
      ],
      "text/markdown": [
       "1. 5\n",
       "2. 5\n",
       "3. 5\n",
       "\n",
       "\n"
      ],
      "text/plain": [
       "[1] 5 5 5"
      ]
     },
     "metadata": {},
     "output_type": "display_data"
    },
    {
     "data": {
      "text/html": [
       "<ol class=list-inline>\n",
       "\t<li>5</li>\n",
       "\t<li>5</li>\n",
       "\t<li>5</li>\n",
       "\t<li>5</li>\n",
       "</ol>\n"
      ],
      "text/latex": [
       "\\begin{enumerate*}\n",
       "\\item 5\n",
       "\\item 5\n",
       "\\item 5\n",
       "\\item 5\n",
       "\\end{enumerate*}\n"
      ],
      "text/markdown": [
       "1. 5\n",
       "2. 5\n",
       "3. 5\n",
       "4. 5\n",
       "\n",
       "\n"
      ],
      "text/plain": [
       "[1] 5 5 5 5"
      ]
     },
     "metadata": {},
     "output_type": "display_data"
    }
   ],
   "source": [
    "# You can repeat any variable (including vectors, lists, or dataframes) with the rep() function,\n",
    "# The times= parameter defines how many times to repeat the given element.\n",
    "vector_of_fives <- rep(5, times=3)\n",
    "vector_of_fives\n",
    "vector_of_fives <- rep(5, 4)\n",
    "vector_of_fives"
   ]
  },
  {
   "cell_type": "code",
   "execution_count": 28,
   "metadata": {},
   "outputs": [
    {
     "data": {
      "text/html": [
       "<ol>\n",
       "\t<li><ol class=list-inline>\n",
       "\t<li>1</li>\n",
       "\t<li>2</li>\n",
       "\t<li>3</li>\n",
       "</ol>\n",
       "</li>\n",
       "\t<li>TRUE</li>\n",
       "\t<li>FALSE</li>\n",
       "\t<li>4.5</li>\n",
       "\t<li>7</li>\n",
       "\t<li><ol class=list-inline>\n",
       "\t<li>1</li>\n",
       "\t<li>2</li>\n",
       "\t<li>3</li>\n",
       "</ol>\n",
       "</li>\n",
       "\t<li>TRUE</li>\n",
       "\t<li>FALSE</li>\n",
       "\t<li>4.5</li>\n",
       "\t<li>7</li>\n",
       "\t<li><ol class=list-inline>\n",
       "\t<li>1</li>\n",
       "\t<li>2</li>\n",
       "\t<li>3</li>\n",
       "</ol>\n",
       "</li>\n",
       "\t<li>TRUE</li>\n",
       "\t<li>FALSE</li>\n",
       "\t<li>4.5</li>\n",
       "\t<li>7</li>\n",
       "</ol>\n"
      ],
      "text/latex": [
       "\\begin{enumerate}\n",
       "\\item \\begin{enumerate*}\n",
       "\\item 1\n",
       "\\item 2\n",
       "\\item 3\n",
       "\\end{enumerate*}\n",
       "\n",
       "\\item TRUE\n",
       "\\item FALSE\n",
       "\\item 4.5\n",
       "\\item 7\n",
       "\\item \\begin{enumerate*}\n",
       "\\item 1\n",
       "\\item 2\n",
       "\\item 3\n",
       "\\end{enumerate*}\n",
       "\n",
       "\\item TRUE\n",
       "\\item FALSE\n",
       "\\item 4.5\n",
       "\\item 7\n",
       "\\item \\begin{enumerate*}\n",
       "\\item 1\n",
       "\\item 2\n",
       "\\item 3\n",
       "\\end{enumerate*}\n",
       "\n",
       "\\item TRUE\n",
       "\\item FALSE\n",
       "\\item 4.5\n",
       "\\item 7\n",
       "\\end{enumerate}\n"
      ],
      "text/markdown": [
       "1. 1. 1\n",
       "2. 2\n",
       "3. 3\n",
       "\n",
       "\n",
       "\n",
       "2. TRUE\n",
       "3. FALSE\n",
       "4. 4.5\n",
       "5. 7\n",
       "6. 1. 1\n",
       "2. 2\n",
       "3. 3\n",
       "\n",
       "\n",
       "\n",
       "7. TRUE\n",
       "8. FALSE\n",
       "9. 4.5\n",
       "10. 7\n",
       "11. 1. 1\n",
       "2. 2\n",
       "3. 3\n",
       "\n",
       "\n",
       "\n",
       "12. TRUE\n",
       "13. FALSE\n",
       "14. 4.5\n",
       "15. 7\n",
       "\n",
       "\n"
      ],
      "text/plain": [
       "[[1]]\n",
       "[1] 1 2 3\n",
       "\n",
       "[[2]]\n",
       "[1] TRUE\n",
       "\n",
       "[[3]]\n",
       "[1] FALSE\n",
       "\n",
       "[[4]]\n",
       "[1] 4.5\n",
       "\n",
       "[[5]]\n",
       "[1] 7\n",
       "\n",
       "[[6]]\n",
       "[1] 1 2 3\n",
       "\n",
       "[[7]]\n",
       "[1] TRUE\n",
       "\n",
       "[[8]]\n",
       "[1] FALSE\n",
       "\n",
       "[[9]]\n",
       "[1] 4.5\n",
       "\n",
       "[[10]]\n",
       "[1] 7\n",
       "\n",
       "[[11]]\n",
       "[1] 1 2 3\n",
       "\n",
       "[[12]]\n",
       "[1] TRUE\n",
       "\n",
       "[[13]]\n",
       "[1] FALSE\n",
       "\n",
       "[[14]]\n",
       "[1] 4.5\n",
       "\n",
       "[[15]]\n",
       "[1] 7\n"
      ]
     },
     "metadata": {},
     "output_type": "display_data"
    }
   ],
   "source": [
    "list_of_things <- list(1:3, TRUE, FALSE, 4.5, 7)\n",
    "list_of_things_repeated <- rep(list_of_things, 3)\n",
    "list_of_things_repeated"
   ]
  },
  {
   "cell_type": "code",
   "execution_count": 29,
   "metadata": {
    "scrolled": true
   },
   "outputs": [
    {
     "data": {
      "text/html": [
       "<dl>\n",
       "\t<dt>$X1</dt>\n",
       "\t\t<dd><ol class=list-inline>\n",
       "\t<li>1</li>\n",
       "\t<li>4</li>\n",
       "\t<li>7</li>\n",
       "</ol>\n",
       "</dd>\n",
       "\t<dt>$X2</dt>\n",
       "\t\t<dd><ol class=list-inline>\n",
       "\t<li>2</li>\n",
       "\t<li>5</li>\n",
       "\t<li>8</li>\n",
       "</ol>\n",
       "</dd>\n",
       "\t<dt>$X3</dt>\n",
       "\t\t<dd><ol class=list-inline>\n",
       "\t<li>3</li>\n",
       "\t<li>6</li>\n",
       "\t<li>9</li>\n",
       "</ol>\n",
       "</dd>\n",
       "\t<dt>$X1</dt>\n",
       "\t\t<dd><ol class=list-inline>\n",
       "\t<li>1</li>\n",
       "\t<li>4</li>\n",
       "\t<li>7</li>\n",
       "</ol>\n",
       "</dd>\n",
       "\t<dt>$X2</dt>\n",
       "\t\t<dd><ol class=list-inline>\n",
       "\t<li>2</li>\n",
       "\t<li>5</li>\n",
       "\t<li>8</li>\n",
       "</ol>\n",
       "</dd>\n",
       "\t<dt>$X3</dt>\n",
       "\t\t<dd><ol class=list-inline>\n",
       "\t<li>3</li>\n",
       "\t<li>6</li>\n",
       "\t<li>9</li>\n",
       "</ol>\n",
       "</dd>\n",
       "</dl>\n"
      ],
      "text/latex": [
       "\\begin{description}\n",
       "\\item[\\$X1] \\begin{enumerate*}\n",
       "\\item 1\n",
       "\\item 4\n",
       "\\item 7\n",
       "\\end{enumerate*}\n",
       "\n",
       "\\item[\\$X2] \\begin{enumerate*}\n",
       "\\item 2\n",
       "\\item 5\n",
       "\\item 8\n",
       "\\end{enumerate*}\n",
       "\n",
       "\\item[\\$X3] \\begin{enumerate*}\n",
       "\\item 3\n",
       "\\item 6\n",
       "\\item 9\n",
       "\\end{enumerate*}\n",
       "\n",
       "\\item[\\$X1] \\begin{enumerate*}\n",
       "\\item 1\n",
       "\\item 4\n",
       "\\item 7\n",
       "\\end{enumerate*}\n",
       "\n",
       "\\item[\\$X2] \\begin{enumerate*}\n",
       "\\item 2\n",
       "\\item 5\n",
       "\\item 8\n",
       "\\end{enumerate*}\n",
       "\n",
       "\\item[\\$X3] \\begin{enumerate*}\n",
       "\\item 3\n",
       "\\item 6\n",
       "\\item 9\n",
       "\\end{enumerate*}\n",
       "\n",
       "\\end{description}\n"
      ],
      "text/markdown": [
       "$X1\n",
       ":   1. 1\n",
       "2. 4\n",
       "3. 7\n",
       "\n",
       "\n",
       "\n",
       "$X2\n",
       ":   1. 2\n",
       "2. 5\n",
       "3. 8\n",
       "\n",
       "\n",
       "\n",
       "$X3\n",
       ":   1. 3\n",
       "2. 6\n",
       "3. 9\n",
       "\n",
       "\n",
       "\n",
       "$X1\n",
       ":   1. 1\n",
       "2. 4\n",
       "3. 7\n",
       "\n",
       "\n",
       "\n",
       "$X2\n",
       ":   1. 2\n",
       "2. 5\n",
       "3. 8\n",
       "\n",
       "\n",
       "\n",
       "$X3\n",
       ":   1. 3\n",
       "2. 6\n",
       "3. 9\n",
       "\n",
       "\n",
       "\n",
       "\n",
       "\n"
      ],
      "text/plain": [
       "$X1\n",
       "[1] 1 4 7\n",
       "\n",
       "$X2\n",
       "[1] 2 5 8\n",
       "\n",
       "$X3\n",
       "[1] 3 6 9\n",
       "\n",
       "$X1\n",
       "[1] 1 4 7\n",
       "\n",
       "$X2\n",
       "[1] 2 5 8\n",
       "\n",
       "$X3\n",
       "[1] 3 6 9\n"
      ]
     },
     "metadata": {},
     "output_type": "display_data"
    }
   ],
   "source": [
    "dataframe_of_data <- data.frame(matrix(1:9, ncol=3, byrow=TRUE))\n",
    "dataframe_of_data_repeated <- rep(dataframe_of_data, times = 2)\n",
    "dataframe_of_data_repeated"
   ]
  },
  {
   "cell_type": "code",
   "execution_count": 30,
   "metadata": {},
   "outputs": [
    {
     "data": {
      "text/html": [
       "<ol class=list-inline>\n",
       "\t<li>1</li>\n",
       "\t<li>2</li>\n",
       "\t<li>3</li>\n",
       "\t<li>4</li>\n",
       "\t<li>5</li>\n",
       "\t<li>1</li>\n",
       "\t<li>2</li>\n",
       "\t<li>3</li>\n",
       "\t<li>4</li>\n",
       "\t<li>5</li>\n",
       "\t<li>1</li>\n",
       "\t<li>2</li>\n",
       "\t<li>3</li>\n",
       "\t<li>4</li>\n",
       "\t<li>5</li>\n",
       "\t<li>1</li>\n",
       "\t<li>2</li>\n",
       "\t<li>3</li>\n",
       "\t<li>4</li>\n",
       "\t<li>5</li>\n",
       "</ol>\n"
      ],
      "text/latex": [
       "\\begin{enumerate*}\n",
       "\\item 1\n",
       "\\item 2\n",
       "\\item 3\n",
       "\\item 4\n",
       "\\item 5\n",
       "\\item 1\n",
       "\\item 2\n",
       "\\item 3\n",
       "\\item 4\n",
       "\\item 5\n",
       "\\item 1\n",
       "\\item 2\n",
       "\\item 3\n",
       "\\item 4\n",
       "\\item 5\n",
       "\\item 1\n",
       "\\item 2\n",
       "\\item 3\n",
       "\\item 4\n",
       "\\item 5\n",
       "\\end{enumerate*}\n"
      ],
      "text/markdown": [
       "1. 1\n",
       "2. 2\n",
       "3. 3\n",
       "4. 4\n",
       "5. 5\n",
       "6. 1\n",
       "7. 2\n",
       "8. 3\n",
       "9. 4\n",
       "10. 5\n",
       "11. 1\n",
       "12. 2\n",
       "13. 3\n",
       "14. 4\n",
       "15. 5\n",
       "16. 1\n",
       "17. 2\n",
       "18. 3\n",
       "19. 4\n",
       "20. 5\n",
       "\n",
       "\n"
      ],
      "text/plain": [
       " [1] 1 2 3 4 5 1 2 3 4 5 1 2 3 4 5 1 2 3 4 5"
      ]
     },
     "metadata": {},
     "output_type": "display_data"
    },
    {
     "data": {
      "text/html": [
       "<ol class=list-inline>\n",
       "\t<li>1</li>\n",
       "\t<li>2</li>\n",
       "\t<li>3</li>\n",
       "\t<li>4</li>\n",
       "\t<li>5</li>\n",
       "\t<li>1</li>\n",
       "\t<li>2</li>\n",
       "\t<li>3</li>\n",
       "\t<li>4</li>\n",
       "\t<li>5</li>\n",
       "\t<li>1</li>\n",
       "\t<li>2</li>\n",
       "\t<li>3</li>\n",
       "</ol>\n"
      ],
      "text/latex": [
       "\\begin{enumerate*}\n",
       "\\item 1\n",
       "\\item 2\n",
       "\\item 3\n",
       "\\item 4\n",
       "\\item 5\n",
       "\\item 1\n",
       "\\item 2\n",
       "\\item 3\n",
       "\\item 4\n",
       "\\item 5\n",
       "\\item 1\n",
       "\\item 2\n",
       "\\item 3\n",
       "\\end{enumerate*}\n"
      ],
      "text/markdown": [
       "1. 1\n",
       "2. 2\n",
       "3. 3\n",
       "4. 4\n",
       "5. 5\n",
       "6. 1\n",
       "7. 2\n",
       "8. 3\n",
       "9. 4\n",
       "10. 5\n",
       "11. 1\n",
       "12. 2\n",
       "13. 3\n",
       "\n",
       "\n"
      ],
      "text/plain": [
       " [1] 1 2 3 4 5 1 2 3 4 5 1 2 3"
      ]
     },
     "metadata": {},
     "output_type": "display_data"
    }
   ],
   "source": [
    "# The length.out function can be used to specify the exact length;\n",
    "# If repeating a vector or similar variable type,\n",
    "# this may leave off a number of variables,\n",
    "# in order to meet the specified length.\n",
    "numbers <- c(1, 2, 3, 4, 5)\n",
    "numbers_repeated <- rep(numbers, length.out = 20)\n",
    "numbers_repeated\n",
    "\n",
    "# If repeating a vector or similar variable type,\n",
    "# this may leave off elements,\n",
    "# in order to meet the specified length.\n",
    "numbers_repeated <- rep(numbers, length.out = 13)\n",
    "numbers_repeated"
   ]
  },
  {
   "cell_type": "code",
   "execution_count": 31,
   "metadata": {},
   "outputs": [
    {
     "data": {
      "text/html": [
       "<ol class=list-inline>\n",
       "\t<li>1</li>\n",
       "\t<li>1</li>\n",
       "\t<li>2</li>\n",
       "\t<li>2</li>\n",
       "\t<li>3</li>\n",
       "\t<li>3</li>\n",
       "\t<li>4</li>\n",
       "\t<li>4</li>\n",
       "\t<li>5</li>\n",
       "\t<li>5</li>\n",
       "</ol>\n"
      ],
      "text/latex": [
       "\\begin{enumerate*}\n",
       "\\item 1\n",
       "\\item 1\n",
       "\\item 2\n",
       "\\item 2\n",
       "\\item 3\n",
       "\\item 3\n",
       "\\item 4\n",
       "\\item 4\n",
       "\\item 5\n",
       "\\item 5\n",
       "\\end{enumerate*}\n"
      ],
      "text/markdown": [
       "1. 1\n",
       "2. 1\n",
       "3. 2\n",
       "4. 2\n",
       "5. 3\n",
       "6. 3\n",
       "7. 4\n",
       "8. 4\n",
       "9. 5\n",
       "10. 5\n",
       "\n",
       "\n"
      ],
      "text/plain": [
       " [1] 1 1 2 2 3 3 4 4 5 5"
      ]
     },
     "metadata": {},
     "output_type": "display_data"
    },
    {
     "data": {
      "text/html": [
       "<ol class=list-inline>\n",
       "\t<li>1</li>\n",
       "\t<li>1</li>\n",
       "\t<li>1</li>\n",
       "\t<li>1</li>\n",
       "\t<li>2</li>\n",
       "\t<li>2</li>\n",
       "\t<li>2</li>\n",
       "\t<li>2</li>\n",
       "\t<li>3</li>\n",
       "\t<li>3</li>\n",
       "\t<li>3</li>\n",
       "\t<li>3</li>\n",
       "\t<li>4</li>\n",
       "\t<li>4</li>\n",
       "\t<li>4</li>\n",
       "\t<li>4</li>\n",
       "\t<li>5</li>\n",
       "\t<li>5</li>\n",
       "\t<li>5</li>\n",
       "\t<li>5</li>\n",
       "\t<li>1</li>\n",
       "\t<li>1</li>\n",
       "\t<li>1</li>\n",
       "\t<li>1</li>\n",
       "\t<li>2</li>\n",
       "\t<li>2</li>\n",
       "\t<li>2</li>\n",
       "\t<li>2</li>\n",
       "\t<li>3</li>\n",
       "\t<li>3</li>\n",
       "\t<li>3</li>\n",
       "\t<li>3</li>\n",
       "\t<li>4</li>\n",
       "\t<li>4</li>\n",
       "\t<li>4</li>\n",
       "\t<li>4</li>\n",
       "\t<li>5</li>\n",
       "\t<li>5</li>\n",
       "\t<li>5</li>\n",
       "\t<li>5</li>\n",
       "\t<li>1</li>\n",
       "\t<li>1</li>\n",
       "\t<li>1</li>\n",
       "\t<li>1</li>\n",
       "\t<li>2</li>\n",
       "\t<li>2</li>\n",
       "\t<li>2</li>\n",
       "\t<li>2</li>\n",
       "\t<li>3</li>\n",
       "\t<li>3</li>\n",
       "\t<li>3</li>\n",
       "\t<li>3</li>\n",
       "\t<li>4</li>\n",
       "\t<li>4</li>\n",
       "\t<li>4</li>\n",
       "\t<li>4</li>\n",
       "\t<li>5</li>\n",
       "\t<li>5</li>\n",
       "\t<li>5</li>\n",
       "\t<li>5</li>\n",
       "</ol>\n"
      ],
      "text/latex": [
       "\\begin{enumerate*}\n",
       "\\item 1\n",
       "\\item 1\n",
       "\\item 1\n",
       "\\item 1\n",
       "\\item 2\n",
       "\\item 2\n",
       "\\item 2\n",
       "\\item 2\n",
       "\\item 3\n",
       "\\item 3\n",
       "\\item 3\n",
       "\\item 3\n",
       "\\item 4\n",
       "\\item 4\n",
       "\\item 4\n",
       "\\item 4\n",
       "\\item 5\n",
       "\\item 5\n",
       "\\item 5\n",
       "\\item 5\n",
       "\\item 1\n",
       "\\item 1\n",
       "\\item 1\n",
       "\\item 1\n",
       "\\item 2\n",
       "\\item 2\n",
       "\\item 2\n",
       "\\item 2\n",
       "\\item 3\n",
       "\\item 3\n",
       "\\item 3\n",
       "\\item 3\n",
       "\\item 4\n",
       "\\item 4\n",
       "\\item 4\n",
       "\\item 4\n",
       "\\item 5\n",
       "\\item 5\n",
       "\\item 5\n",
       "\\item 5\n",
       "\\item 1\n",
       "\\item 1\n",
       "\\item 1\n",
       "\\item 1\n",
       "\\item 2\n",
       "\\item 2\n",
       "\\item 2\n",
       "\\item 2\n",
       "\\item 3\n",
       "\\item 3\n",
       "\\item 3\n",
       "\\item 3\n",
       "\\item 4\n",
       "\\item 4\n",
       "\\item 4\n",
       "\\item 4\n",
       "\\item 5\n",
       "\\item 5\n",
       "\\item 5\n",
       "\\item 5\n",
       "\\end{enumerate*}\n"
      ],
      "text/markdown": [
       "1. 1\n",
       "2. 1\n",
       "3. 1\n",
       "4. 1\n",
       "5. 2\n",
       "6. 2\n",
       "7. 2\n",
       "8. 2\n",
       "9. 3\n",
       "10. 3\n",
       "11. 3\n",
       "12. 3\n",
       "13. 4\n",
       "14. 4\n",
       "15. 4\n",
       "16. 4\n",
       "17. 5\n",
       "18. 5\n",
       "19. 5\n",
       "20. 5\n",
       "21. 1\n",
       "22. 1\n",
       "23. 1\n",
       "24. 1\n",
       "25. 2\n",
       "26. 2\n",
       "27. 2\n",
       "28. 2\n",
       "29. 3\n",
       "30. 3\n",
       "31. 3\n",
       "32. 3\n",
       "33. 4\n",
       "34. 4\n",
       "35. 4\n",
       "36. 4\n",
       "37. 5\n",
       "38. 5\n",
       "39. 5\n",
       "40. 5\n",
       "41. 1\n",
       "42. 1\n",
       "43. 1\n",
       "44. 1\n",
       "45. 2\n",
       "46. 2\n",
       "47. 2\n",
       "48. 2\n",
       "49. 3\n",
       "50. 3\n",
       "51. 3\n",
       "52. 3\n",
       "53. 4\n",
       "54. 4\n",
       "55. 4\n",
       "56. 4\n",
       "57. 5\n",
       "58. 5\n",
       "59. 5\n",
       "60. 5\n",
       "\n",
       "\n"
      ],
      "text/plain": [
       " [1] 1 1 1 1 2 2 2 2 3 3 3 3 4 4 4 4 5 5 5 5 1 1 1 1 2 2 2 2 3 3 3 3 4 4 4 4 5 5\n",
       "[39] 5 5 1 1 1 1 2 2 2 2 3 3 3 3 4 4 4 4 5 5 5 5"
      ]
     },
     "metadata": {},
     "output_type": "display_data"
    }
   ],
   "source": [
    "# If working with a vector or similar data type,\n",
    "# You can use the each= parameter to repeat each variable the specified number of times,\n",
    "# before moving on to the next variable.\n",
    "numbers_repeated <- rep(numbers, each=2)\n",
    "numbers_repeated\n",
    "numbers_repeated <- rep(numbers, times=3, each=4)\n",
    "numbers_repeated\n",
    "##################################################"
   ]
  }
 ],
 "metadata": {
  "kernelspec": {
   "display_name": "R",
   "language": "R",
   "name": "ir"
  },
  "language_info": {
   "codemirror_mode": "r",
   "file_extension": ".r",
   "mimetype": "text/x-r-source",
   "name": "R",
   "pygments_lexer": "r",
   "version": "3.6.1"
  }
 },
 "nbformat": 4,
 "nbformat_minor": 2
}
