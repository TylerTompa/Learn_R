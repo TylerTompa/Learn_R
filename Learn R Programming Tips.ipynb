{
 "cells": [
  {
   "cell_type": "markdown",
   "metadata": {},
   "source": [
    "# General Functions"
   ]
  },
  {
   "cell_type": "code",
   "execution_count": 1,
   "metadata": {},
   "outputs": [
    {
     "name": "stderr",
     "output_type": "stream",
     "text": [
      "Warning message:\n",
      "\"package 'benchmarkme' was built under R version 3.6.3\""
     ]
    },
    {
     "data": {
      "text/plain": [
       "17 GB"
      ]
     },
     "metadata": {},
     "output_type": "display_data"
    },
    {
     "data": {
      "text/html": [
       "<dl>\n",
       "\t<dt>$vendor_id</dt>\n",
       "\t\t<dd>'GenuineIntel'</dd>\n",
       "\t<dt>$model_name</dt>\n",
       "\t\t<dd>'Intel(R) Core(TM) i7-8565U CPU @ 1.80GHz'</dd>\n",
       "\t<dt>$no_of_cores</dt>\n",
       "\t\t<dd>8</dd>\n",
       "</dl>\n"
      ],
      "text/latex": [
       "\\begin{description}\n",
       "\\item[\\$vendor\\_id] 'GenuineIntel'\n",
       "\\item[\\$model\\_name] 'Intel(R) Core(TM) i7-8565U CPU @ 1.80GHz'\n",
       "\\item[\\$no\\_of\\_cores] 8\n",
       "\\end{description}\n"
      ],
      "text/markdown": [
       "$vendor_id\n",
       ":   'GenuineIntel'\n",
       "$model_name\n",
       ":   'Intel(R) Core(TM) i7-8565U CPU @ 1.80GHz'\n",
       "$no_of_cores\n",
       ":   8\n",
       "\n",
       "\n"
      ],
      "text/plain": [
       "$vendor_id\n",
       "[1] \"GenuineIntel\"\n",
       "\n",
       "$model_name\n",
       "[1] \"Intel(R) Core(TM) i7-8565U CPU @ 1.80GHz\"\n",
       "\n",
       "$no_of_cores\n",
       "[1] 8\n"
      ]
     },
     "metadata": {},
     "output_type": "display_data"
    }
   ],
   "source": [
    "# You can obtain the RAM of the machine running the script with the get_ram() function\n",
    "library(benchmarkme)\n",
    "ram <- get_ram()\n",
    "ram\n",
    "\n",
    "# You can obtain CPU iformation using the get_cpu() function.\n",
    "cpu <- get_cpu()\n",
    "cpu"
   ]
  },
  {
   "cell_type": "markdown",
   "metadata": {},
   "source": [
    "# RDS"
   ]
  },
  {
   "cell_type": "code",
   "execution_count": 2,
   "metadata": {},
   "outputs": [
    {
     "data": {
      "text/html": [
       "<table>\n",
       "<thead><tr><th scope=col>random_numbers_1</th><th scope=col>random_numbers_2</th><th scope=col>random_numbers_3</th><th scope=col>random_numbers_4</th><th scope=col>random_numbers_5</th></tr></thead>\n",
       "<tbody>\n",
       "\t<tr><td>8</td><td>1</td><td>4</td><td>9</td><td>1</td></tr>\n",
       "\t<tr><td>5</td><td>4</td><td>1</td><td>8</td><td>9</td></tr>\n",
       "\t<tr><td>6</td><td>3</td><td>2</td><td>5</td><td>4</td></tr>\n",
       "\t<tr><td>7</td><td>8</td><td>8</td><td>7</td><td>8</td></tr>\n",
       "\t<tr><td>1</td><td>6</td><td>6</td><td>2</td><td>6</td></tr>\n",
       "</tbody>\n",
       "</table>\n"
      ],
      "text/latex": [
       "\\begin{tabular}{r|lllll}\n",
       " random\\_numbers\\_1 & random\\_numbers\\_2 & random\\_numbers\\_3 & random\\_numbers\\_4 & random\\_numbers\\_5\\\\\n",
       "\\hline\n",
       "\t 8 & 1 & 4 & 9 & 1\\\\\n",
       "\t 5 & 4 & 1 & 8 & 9\\\\\n",
       "\t 6 & 3 & 2 & 5 & 4\\\\\n",
       "\t 7 & 8 & 8 & 7 & 8\\\\\n",
       "\t 1 & 6 & 6 & 2 & 6\\\\\n",
       "\\end{tabular}\n"
      ],
      "text/markdown": [
       "\n",
       "| random_numbers_1 | random_numbers_2 | random_numbers_3 | random_numbers_4 | random_numbers_5 |\n",
       "|---|---|---|---|---|\n",
       "| 8 | 1 | 4 | 9 | 1 |\n",
       "| 5 | 4 | 1 | 8 | 9 |\n",
       "| 6 | 3 | 2 | 5 | 4 |\n",
       "| 7 | 8 | 8 | 7 | 8 |\n",
       "| 1 | 6 | 6 | 2 | 6 |\n",
       "\n"
      ],
      "text/plain": [
       "  random_numbers_1 random_numbers_2 random_numbers_3 random_numbers_4\n",
       "1 8                1                4                9               \n",
       "2 5                4                1                8               \n",
       "3 6                3                2                5               \n",
       "4 7                8                8                7               \n",
       "5 1                6                6                2               \n",
       "  random_numbers_5\n",
       "1 1               \n",
       "2 9               \n",
       "3 4               \n",
       "4 8               \n",
       "5 6               "
      ]
     },
     "metadata": {},
     "output_type": "display_data"
    }
   ],
   "source": [
    "# Large csv files can take a long time for R to read.\n",
    "# As an alternative, you can save the file and read it as an R Binary File (rds)\n",
    "\n",
    "# I will return to this later and study R Binary Files more closely.\n",
    "# This script has more-or-less been started as a reminder to come back to this topic later.\n",
    "# https://www.rdocumentation.org/packages/base/versions/3.6.2/topics/readRDS\n",
    "# - Tyler\n",
    "random_numbers_1 <- sample(1:9, 5)\n",
    "random_numbers_2 <- sample(1:9, 5)\n",
    "random_numbers_3 <- sample(1:9, 5)\n",
    "random_numbers_4 <- sample(1:9, 5)\n",
    "random_numbers_5 <- sample(1:9, 5)\n",
    "random_dataframe <- data.frame(random_numbers_1,\n",
    "                               random_numbers_2,\n",
    "                               random_numbers_3,\n",
    "                               random_numbers_4,\n",
    "                               random_numbers_5)\n",
    "\n",
    "fil <- tempfile(\"random_dataframe\", fileext = \".rds\")\n",
    "saveRDS(random_dataframe, fil)\n",
    "\n",
    "dataframe_rds <- readRDS(fil)\n",
    "dataframe_rds"
   ]
  }
 ],
 "metadata": {
  "kernelspec": {
   "display_name": "R",
   "language": "R",
   "name": "ir"
  },
  "language_info": {
   "codemirror_mode": "r",
   "file_extension": ".r",
   "mimetype": "text/x-r-source",
   "name": "R",
   "pygments_lexer": "r",
   "version": "3.6.1"
  }
 },
 "nbformat": 4,
 "nbformat_minor": 2
}
